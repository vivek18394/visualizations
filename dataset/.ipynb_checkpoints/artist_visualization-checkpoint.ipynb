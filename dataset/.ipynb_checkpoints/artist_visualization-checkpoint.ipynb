{
 "cells": [
  {
   "cell_type": "code",
   "execution_count": 23,
   "metadata": {},
   "outputs": [
    {
     "name": "stdout",
     "output_type": "stream",
     "text": [
      "   Artist ID             Name Nationality Gender  Birth Year  Death Year\n",
      "0          1   Robert Arneson    American   Male      1930.0      1992.0\n",
      "1          2   Doroteo Arnaiz     Spanish   Male      1936.0         NaN\n",
      "2          3      Bill Arnold    American   Male      1941.0         NaN\n",
      "3          4  Charles Arnoldi    American   Male      1946.0         NaN\n",
      "4          5      Per Arnoldi      Danish   Male      1941.0         NaN\n",
      "(15091, 6)\n",
      "    Artist ID                 Name Nationality Gender  Birth Year  Death Year  \\\n",
      "0           1       Robert Arneson    American   Male      1930.0      1992.0   \n",
      "9          11      Jean (Hans) Arp      French   Male      1886.0      1966.0   \n",
      "11         13  J. Arrelano Fischer     Mexican   Male      1911.0      1995.0   \n",
      "12         15        Folke Arstrom     Swedish   Male      1907.0      1997.0   \n",
      "13         16    Cristobal Arteche     Spanish   Male      1900.0      1964.0   \n",
      "\n",
      "     Age  \n",
      "0   62.0  \n",
      "9   80.0  \n",
      "11  84.0  \n",
      "12  90.0  \n",
      "13  64.0  \n"
     ]
    },
    {
     "name": "stderr",
     "output_type": "stream",
     "text": [
      "<ipython-input-23-b5a44b1e5c08>:14: SettingWithCopyWarning: \n",
      "A value is trying to be set on a copy of a slice from a DataFrame.\n",
      "Try using .loc[row_indexer,col_indexer] = value instead\n",
      "\n",
      "See the caveats in the documentation: https://pandas.pydata.org/pandas-docs/stable/user_guide/indexing.html#returning-a-view-versus-a-copy\n",
      "  artist_data['Age'] = artist_data['Death Year'] - artist_data['Birth Year']\n"
     ]
    },
    {
     "data": {
      "text/plain": [
       "(4429, 7)"
      ]
     },
     "execution_count": 23,
     "metadata": {},
     "output_type": "execute_result"
    }
   ],
   "source": [
    "import pandas as pd\n",
    "\n",
    "artist_df = pd.read_csv(\"artists.csv\")\n",
    "\n",
    "\n",
    "print(artist_df.head())\n",
    "\n",
    "print(artist_df.shape)\n",
    "\n",
    "#removing nan values from dataframe\n",
    "artist_data = artist_df.dropna()\n",
    "\n",
    "#make another column with header age = death year - birth year\n",
    "artist_data['Age'] = artist_data['Death Year'] - artist_data['Birth Year']\n",
    "#artist_data['Age'] = artist_data.apply(lambda row: artist_data['Death Year'] - artist_data['Birth Year'], axis=1)\n",
    "\n",
    "print(artist_data.head())\n",
    "artist_data.shape"
   ]
  },
  {
   "cell_type": "code",
   "execution_count": null,
   "metadata": {},
   "outputs": [],
   "source": []
  }
 ],
 "metadata": {
  "kernelspec": {
   "display_name": "Python 3",
   "language": "python",
   "name": "python3"
  },
  "language_info": {
   "codemirror_mode": {
    "name": "ipython",
    "version": 3
   },
   "file_extension": ".py",
   "mimetype": "text/x-python",
   "name": "python",
   "nbconvert_exporter": "python",
   "pygments_lexer": "ipython3",
   "version": "3.8.5"
  }
 },
 "nbformat": 4,
 "nbformat_minor": 4
}
