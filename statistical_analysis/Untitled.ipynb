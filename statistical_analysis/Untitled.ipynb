{
 "cells": [
  {
   "cell_type": "code",
   "execution_count": 14,
   "metadata": {},
   "outputs": [
    {
     "name": "stdout",
     "output_type": "stream",
     "text": [
      "2007.4117647058824\n"
     ]
    }
   ],
   "source": [
    "#import data from csv file\n",
    "import pandas as pd\n",
    "\n",
    "df = pd.read_csv ('share-of-individuals-using-the-internet.csv')\n",
    "\n",
    "#find mean of internet users(from 2010-2016) in england, afghanistan and Morocco and plot them\n",
    "\n",
    "year = ['2010','2011','2012','2013','2014','2015']\n",
    "df_afghan = df.loc[df['Entity'] == 'Afghanistan']\n",
    "df_england = df.loc[df['Entity'] == 'England']\n",
    "df_morocco = df.loc[df['Entity'] == 'Morocco']\n",
    "\n",
    "df_afghan = df_afghan['Year'].mean()\n",
    "df_afghan = df_afghan['Year'].mean()\n",
    "df_afghan = df_afghan['Year'].mean()\n",
    "print(df_afghan)\n",
    "\n",
    "\n",
    "#print (df)\n"
   ]
  },
  {
   "cell_type": "code",
   "execution_count": null,
   "metadata": {},
   "outputs": [],
   "source": []
  }
 ],
 "metadata": {
  "kernelspec": {
   "display_name": "Python 3",
   "language": "python",
   "name": "python3"
  },
  "language_info": {
   "codemirror_mode": {
    "name": "ipython",
    "version": 3
   },
   "file_extension": ".py",
   "mimetype": "text/x-python",
   "name": "python",
   "nbconvert_exporter": "python",
   "pygments_lexer": "ipython3",
   "version": "3.7.4"
  }
 },
 "nbformat": 4,
 "nbformat_minor": 2
}
